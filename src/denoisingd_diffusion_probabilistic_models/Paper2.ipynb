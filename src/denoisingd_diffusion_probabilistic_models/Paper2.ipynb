{
 "cells": [
  {
   "cell_type": "markdown",
   "metadata": {
    "pycharm": {
     "name": "#%% md\n"
    }
   },
   "source": [
    "# Paper 2: Denoising Diffusion Probabilistic Models"
   ]
  },
  {
   "cell_type": "code",
   "execution_count": 1,
   "metadata": {
    "pycharm": {
     "name": "#%%\n"
    }
   },
   "outputs": [
    {
     "name": "stderr",
     "output_type": "stream",
     "text": [
      "2023-07-24 12:12:27.566022: I tensorflow/core/platform/cpu_feature_guard.cc:182] This TensorFlow binary is optimized to use available CPU instructions in performance-critical operations.\n",
      "To enable the following instructions: AVX2 FMA, in other operations, rebuild TensorFlow with the appropriate compiler flags.\n",
      "2023-07-24 12:12:28.348884: W tensorflow/compiler/tf2tensorrt/utils/py_utils.cc:38] TF-TRT Warning: Could not find TensorRT\n"
     ]
    },
    {
     "name": "stdout",
     "output_type": "stream",
     "text": [
      "Downloading data from https://storage.googleapis.com/tensorflow/tf-keras-datasets/mnist.npz\n",
      "11490434/11490434 [==============================] - 1s 0us/step\n"
     ]
    }
   ],
   "source": [
    "from diffusion_model import DiffusionModel\n",
    "from data_prep import sample_batch\n",
    "from unet import UNet\n",
    "import torch\n",
    "from tqdm import tqdm"
   ]
  },
  {
   "cell_type": "code",
   "execution_count": 2,
   "metadata": {
    "pycharm": {
     "name": "#%%\n"
    }
   },
   "outputs": [],
   "source": [
    "import matplotlib.pyplot as plt\n",
    "import numpy as np"
   ]
  },
  {
   "cell_type": "markdown",
   "metadata": {
    "pycharm": {
     "name": "#%% md\n"
    }
   },
   "source": [
    "## Globals"
   ]
  },
  {
   "cell_type": "code",
   "execution_count": 3,
   "metadata": {
    "pycharm": {
     "name": "#%%\n"
    }
   },
   "outputs": [],
   "source": [
    "device = 'cuda'\n",
    "# device = 'cpu'\n",
    "batch_size = 64\n"
   ]
  },
  {
   "cell_type": "markdown",
   "metadata": {
    "pycharm": {
     "name": "#%% md\n"
    }
   },
   "source": [
    "## Inspect data"
   ]
  },
  {
   "cell_type": "code",
   "execution_count": 7,
   "metadata": {
    "pycharm": {
     "name": "#%%\n"
    }
   },
   "outputs": [
    {
     "name": "stdout",
     "output_type": "stream",
     "text": [
      "<class 'torch.Tensor'>\n",
      "torch.Size([64, 1, 32, 32])\n"
     ]
    }
   ],
   "source": [
    "sample = sample_batch(batch_size, device)\n",
    "print(type(sample))\n",
    "print(sample.shape)\n",
    "sample = sample.cpu().data.numpy()"
   ]
  },
  {
   "cell_type": "code",
   "execution_count": 8,
   "metadata": {
    "pycharm": {
     "name": "#%%\n"
    }
   },
   "outputs": [
    {
     "data": {
      "text/plain": [
       "<matplotlib.image.AxesImage at 0x7fbbed4ef550>"
      ]
     },
     "execution_count": 8,
     "metadata": {},
     "output_type": "execute_result"
    },
    {
     "data": {
      "image/png": "[encoded data removed]",
      "text/plain": [
       "<Figure size 800x800 with 4 Axes>"
      ]
     },
     "metadata": {},
     "output_type": "display_data"
    }
   ],
   "source": [
    "fig, axes = plt.subplots(2, 2, figsize=(8,8))\n",
    "\n",
    "axes[0,0].matshow(sample[0,0], cmap='gray')\n",
    "axes[0,1].matshow(sample[1,0], cmap='gray')\n",
    "axes[1,0].matshow(sample[2,0], cmap='gray')\n",
    "axes[1,1].matshow(sample[3,0], cmap='gray')"
   ]
  },
  {
   "cell_type": "markdown",
   "metadata": {
    "pycharm": {
     "name": "#%% md\n"
    }
   },
   "source": [
    "## Modelling"
   ]
  },
  {
   "cell_type": "markdown",
   "metadata": {
    "pycharm": {
     "name": "#%% md\n"
    }
   },
   "source": [
    "### Algorithm: Training\n",
    "\n",
    "Repeat\n",
    "* Sample image $x_0 \\sim q(x_0)$\n",
    "* Sample time step $t \\sim \\text{Uniform}(\\{1, ..., T\\})$\n",
    "* Sample noise $\\epsilon \\sim N(0, I)$\n",
    "* Take gradient step\n",
    "  * Add noise $\\epsilon$ to sample $x_0$. Where the noise is reparamized before\n",
    "  * Let the UNet model predict the noise\n",
    "\n",
    "until convergence"
   ]
  },
  {
   "cell_type": "code",
   "execution_count": 9,
   "metadata": {
    "pycharm": {
     "name": "#%%\n"
    }
   },
   "outputs": [],
   "source": [
    "model = UNet()\n",
    "optimizer = torch.optim.Adam(model.parameters(), lr=2e-5)\n",
    "diffusion_model = DiffusionModel(1000, model, device)"
   ]
  },
  {
   "cell_type": "code",
   "execution_count": 10,
   "metadata": {
    "pycharm": {
     "name": "#%%\n"
    }
   },
   "outputs": [
    {
     "name": "stderr",
     "output_type": "stream",
     "text": [
      "100%|████████████████████████████████████████████████████████████████████████████████████████████████████████████████████████████████████████████████████████████████████████████████████████████| 40000/40000 [2:23:06<00:00,  4.66it/s]\n"
     ]
    }
   ],
   "source": [
    "training_loss = []\n",
    "for epoch in tqdm(range(40_000)):\n",
    "    loss = diffusion_model.training(batch_size, optimizer)\n",
    "    training_loss.append(loss)\n",
    "\n",
    "    if epoch % 100 == 0:\n",
    "        plt.plot(training_loss)\n",
    "        plt.savefig('figs/training_loss.png')\n",
    "        plt.close()\n",
    "\n",
    "        plt.plot(training_loss[-1000:])\n",
    "        plt.savefig('figs/training_loss_cropped.png')\n",
    "        plt.close()\n",
    "\n",
    "    if epoch % 5000 == 0:\n",
    "        nb_images=81\n",
    "        samples = diffusion_model.sampling(n_samples=nb_images, use_tqdm=False)\n",
    "        plt.figure(figsize=(17, 17))\n",
    "        for i in range(nb_images):\n",
    "            plt.subplot(9, 9, 1 + i)\n",
    "            plt.axis('off')\n",
    "            plt.imshow(samples[i].squeeze(0).clip(0, 1).data.cpu().numpy(), cmap='gray')\n",
    "        plt.savefig(f'figs/samples_epoch_{epoch}.png')\n",
    "        plt.close()\n",
    "\n",
    "        torch.save(model.cpu(), f'model_paper2_epoch_{epoch}')\n",
    "        model.cuda()"
   ]
  },
  {
   "cell_type": "code",
   "execution_count": null,
   "metadata": {
    "pycharm": {
     "name": "#%%\n"
    }
   },
   "outputs": [],
   "source": []
  },
  {
   "cell_type": "markdown",
   "metadata": {
    "pycharm": {
     "name": "#%% md\n"
    }
   },
   "source": [
    "## Inference"
   ]
  },
  {
   "cell_type": "markdown",
   "metadata": {
    "pycharm": {
     "name": "#%% md\n"
    }
   },
   "source": [
    "### Algorithm: Sampling (Inference)\n",
    "\n",
    "* Sample initial seed for the image $x_T \\sim N(0, I)$\n",
    "* for $t=T,...,1$ do\n",
    "  * $z = \\sim N(0,I) \\text{ if } t>1, \\text{ else } z=0$\n",
    "  * Restore noise $ x_{t-1} = \\mu_t + \\sigma_t * z$\n",
    "* end for\n",
    "* return $x_0$"
   ]
  },
  {
   "cell_type": "code",
   "execution_count": 11,
   "metadata": {
    "pycharm": {
     "name": "#%%\n"
    }
   },
   "outputs": [],
   "source": [
    "nb_images=81\n",
    "samples = diffusion_model.sampling(n_samples=nb_images, use_tqdm=False)\n",
    "plt.figure(figsize=(17, 17))\n",
    "for i in range(nb_images):\n",
    "    plt.subplot(9, 9, 1 + i)\n",
    "    plt.axis('off')\n",
    "    plt.imshow(samples[i].squeeze(0).clip(0, 1).data.cpu().numpy(), cmap='gray')\n",
    "plt.savefig(f'figs/samples_epoch_{epoch}.png')\n",
    "plt.close()\n",
    "\n",
    "torch.save(model.cpu(), f'figs/model_paper2_epoch_{epoch}')"
   ]
  },
  {
   "cell_type": "code",
   "execution_count": null,
   "metadata": {
    "pycharm": {
     "name": "#%%\n"
    }
   },
   "outputs": [],
   "source": []
  },
  {
   "cell_type": "code",
   "execution_count": null,
   "metadata": {
    "pycharm": {
     "name": "#%%\n"
    }
   },
   "outputs": [],
   "source": []
  }
 ],
 "metadata": {
  "kernelspec": {
   "display_name": "venv_idm_course",
   "language": "python",
   "name": "venv_idm_course"
  },
  "language_info": {
   "codemirror_mode": {
    "name": "ipython",
    "version": 3
   },
   "file_extension": ".py",
   "mimetype": "text/x-python",
   "name": "python",
   "nbconvert_exporter": "python",
   "pygments_lexer": "ipython3",
   "version": "3.8.16"
  }
 },
 "nbformat": 4,
 "nbformat_minor": 1
}
